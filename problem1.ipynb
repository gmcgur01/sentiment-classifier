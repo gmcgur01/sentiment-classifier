{
 "cells": [
  {
   "cell_type": "markdown",
   "metadata": {},
   "source": []
  },
  {
   "cell_type": "code",
   "execution_count": 2,
   "metadata": {},
   "outputs": [],
   "source": [
    "import numpy as np\n",
    "import pandas as pd\n",
    "import os\n",
    "\n",
    "import sklearn.linear_model\n",
    "import sklearn.pipeline\n",
    "import sklearn.metrics\n",
    "\n",
    "from sklearn.feature_extraction.text import CountVectorizer\n",
    "from sklearn.model_selection import GridSearchCV\n",
    "from sklearn.utils import shuffle\n",
    "\n",
    "import matplotlib\n",
    "import matplotlib.pyplot as plt\n",
    "\n",
    "from confusion_matrix import calc_confusion_matrix_for_probas_and_threshold"
   ]
  },
  {
   "cell_type": "code",
   "execution_count": 3,
   "metadata": {},
   "outputs": [],
   "source": [
    "# imports training data from files\n",
    "def load_train_data():\n",
    "    data_dir = \"data_reviews\"\n",
    "    x_train_df = pd.read_csv(os.path.join(data_dir, \"x_train.csv\"))\n",
    "    y_train_df = pd.read_csv(os.path.join(data_dir, \"y_train.csv\"))\n",
    "    return x_train_df, y_train_df"
   ]
  },
  {
   "cell_type": "code",
   "execution_count": 4,
   "metadata": {},
   "outputs": [],
   "source": [
    "def split_by_website(x_N):\n",
    "\n",
    "    N = x_N.shape[0]\n",
    "\n",
    "    x_amazon = [(x_N[i,1], i) for i in range(N) if x_N[i,0] == \"amazon\"]\n",
    "    x_imdb = [(x_N[i,1], i) for i in range(N) if x_N[i,0] == \"imdb\"]\n",
    "    x_yelp = [(x_N[i,1], i) for i in range(N) if x_N[i,0] == \"yelp\"]\n",
    "    \n",
    "    return x_amazon, x_imdb, x_yelp"
   ]
  },
  {
   "cell_type": "code",
   "execution_count": 5,
   "metadata": {},
   "outputs": [],
   "source": [
    "def load_test_data():\n",
    "    data_dir = \"data_reviews\"\n",
    "    x_test_df = pd.read_csv(os.path.join(data_dir, \"x_test.csv\"))\n",
    "    return x_test_df"
   ]
  },
  {
   "cell_type": "code",
   "execution_count": 6,
   "metadata": {},
   "outputs": [],
   "source": [
    "def print_word_freq(x_train_N):\n",
    "    # min_df sets sets a minimum number of times a given token needs to be\n",
    "    # included in a text entry to be a part of the vector\n",
    "    vectorizer = CountVectorizer(min_df=4, binary=False)\n",
    "    x_vec_N = vectorizer.fit_transform(x_train_N)\n",
    "\n",
    "    dense_arr = x_vec_N.toarray()\n",
    "\n",
    "    freq = [\n",
    "        (term, np.sum(dense_arr[:, index]))\n",
    "        for term, index in list(vectorizer.vocabulary_.items())\n",
    "    ]\n",
    "\n",
    "    for term, count in sorted(freq, key=lambda x: x[1], reverse=True):\n",
    "        print(f\"{term} -- {count}\")"
   ]
  },
  {
   "cell_type": "code",
   "execution_count": 7,
   "metadata": {},
   "outputs": [],
   "source": [
    "# pipeline for BoW representation + logistic regression classifier\n",
    "def make_bow_classifier_pipeline(min_df=1, max_df=1.0, C=1.0):\n",
    "    pipeline = sklearn.pipeline.Pipeline(\n",
    "        steps=[\n",
    "            # turn data into BoW feature representation\n",
    "            (\n",
    "                \"bow_feature_extractor\",\n",
    "                CountVectorizer(min_df=min_df, max_df=max_df, ngram_range=(1, 1)),\n",
    "            ),\n",
    "            # Given features construct the classifier (w/ hyperparam selection)\n",
    "            (\n",
    "                \"classifier\",\n",
    "                sklearn.linear_model.LogisticRegression(C=C, max_iter=100000),\n",
    "            ),\n",
    "        ]\n",
    "    )\n",
    "\n",
    "    return pipeline"
   ]
  },
  {
   "cell_type": "code",
   "execution_count": 8,
   "metadata": {},
   "outputs": [],
   "source": [
    "def make_hyperparam_grid():\n",
    "\n",
    "    hyperparam_grid = {}\n",
    "\n",
    "    hyperparam_grid[\"bow_feature_extractor__min_df\"] = [1, 2, 4, 8, 16, 32]\n",
    "    hyperparam_grid[\"bow_feature_extractor__max_df\"] = [1.0, 0.5, 0.25, 0.15]\n",
    "    hyperparam_grid[\"classifier__C\"] = np.logspace(-6, 6, 13)\n",
    "\n",
    "    return hyperparam_grid"
   ]
  },
  {
   "cell_type": "markdown",
   "metadata": {},
   "source": [
    "# Import data and train model using GridSearch"
   ]
  },
  {
   "cell_type": "code",
   "execution_count": 9,
   "metadata": {},
   "outputs": [],
   "source": [
    "x_train_df, y_train_df = load_train_data()\n",
    "\n",
    "x_test_df = load_test_data()"
   ]
  },
  {
   "cell_type": "code",
   "execution_count": 10,
   "metadata": {},
   "outputs": [],
   "source": [
    "# getting rid of company label\n",
    "x_train_N = x_train_df.to_numpy()[:, 1]\n",
    "y_train_N = y_train_df.to_numpy()[:, 0]\n",
    "\n",
    "x_test_N = x_test_df.to_numpy()[:, 1]\n",
    "\n",
    "# shuffle dataset\n",
    "x_train_N, y_train_N = shuffle(x_train_N, y_train_N, random_state=2)"
   ]
  },
  {
   "cell_type": "code",
   "execution_count": 11,
   "metadata": {},
   "outputs": [
    {
     "name": "stdout",
     "output_type": "stream",
     "text": [
      "best score: 0.8888958333333333; best params: {'bow_feature_extractor__max_df': 0.15, 'bow_feature_extractor__min_df': 1, 'classifier__C': 1.0}\n"
     ]
    }
   ],
   "source": [
    "pipeline = make_bow_classifier_pipeline()\n",
    "hyperparam_grid = make_hyperparam_grid()\n",
    "\n",
    "grid_searcher = sklearn.model_selection.GridSearchCV(\n",
    "    pipeline,\n",
    "    hyperparam_grid,\n",
    "    cv=10,\n",
    "    scoring=\"roc_auc\"\n",
    ")\n",
    "\n",
    "grid_searcher.fit(x_train_N, y_train_N)\n",
    "\n",
    "best_model = grid_searcher.best_estimator_\n",
    "best_params = grid_searcher.best_params_\n",
    "best_score = grid_searcher.best_score_\n",
    "\n",
    "yhat_proba_test_N = best_model.predict_proba(x_test_N)\n",
    "\n",
    "np.savetxt(\"yproba1_test.txt\", yhat_proba_test_N[:,1])\n",
    "\n",
    "print(f\"best score: {best_score}; best params:\", best_params)"
   ]
  },
  {
   "cell_type": "code",
   "execution_count": 12,
   "metadata": {},
   "outputs": [],
   "source": [
    "\n",
    "# fold 1 values\n",
    "x_valid = x_train_N[:240]\n",
    "y_valid = y_train_N[:240]\n",
    "\n",
    "x_train = x_train_N[240:]\n",
    "y_train = y_train_N[240:]\n",
    "\n",
    "c_values = np.logspace(-8, 8, 17)\n",
    "\n",
    "models = []\n",
    "train_error = []\n",
    "valid_error = []\n",
    "\n",
    "# train_bce = []\n",
    "# valid_bce = []\n",
    "\n",
    "\n",
    "\n",
    "for c in c_values:\n",
    "    curr_pipeline = make_bow_classifier_pipeline(C=c)\n",
    "    curr_pipeline.fit(x_train, y_train)\n",
    "\n",
    "    models.append(curr_pipeline)\n",
    "\n",
    "    yhat_proba_train = curr_pipeline.predict_proba(x_train)[:,1]\n",
    "    yhat_proba_valid = curr_pipeline.predict_proba(x_valid)[:,1]\n",
    "\n",
    "    train_error.append(sklearn.metrics.zero_one_loss(y_train, yhat_proba_train >= 0.5))\n",
    "    valid_error.append(sklearn.metrics.zero_one_loss(y_valid, yhat_proba_valid >= 0.5))\n",
    "\n",
    "    # train_bce.append(sklearn.metrics.log_loss(y_train, yhat_proba_train >= 0.5))\n",
    "    # valid_bce.append(sklearn.metrics.log_loss(y_valid, yhat_proba_valid >= 0.5))\n",
    "\n",
    "\n"
   ]
  },
  {
   "cell_type": "code",
   "execution_count": 13,
   "metadata": {},
   "outputs": [
    {
     "data": {
      "image/png": "[encoded data removed]",
      "text/plain": [
       "<Figure size 640x480 with 1 Axes>"
      ]
     },
     "metadata": {},
     "output_type": "display_data"
    }
   ],
   "source": [
    "# plt.plot(np.log10(c_values), train_bce, 'bs-', label='train BCE')\n",
    "# plt.plot(np.log10(c_values), valid_bce, 'rs-', label='valid BCE')\n",
    "\n",
    "plt.title(\"Training and Validation Error over C values\");\n",
    "plt.plot(np.log10(c_values), train_error, 'b:', label='train err')\n",
    "plt.plot(np.log10(c_values), valid_error, 'r:', label='valid err')\n",
    "\n",
    "plt.ylabel('error')\n",
    "plt.xlabel(\"$\\log_{10} C$\");\n",
    "plt.legend(bbox_to_anchor=(1.5, 0.5)) # make legend outside plot\n",
    "plt.ylim([0, 1.0]);"
   ]
  },
  {
   "cell_type": "code",
   "execution_count": 14,
   "metadata": {},
   "outputs": [
    {
     "data": {
      "image/png": "[encoded data removed]",
      "text/plain": [
       "<Figure size 500x500 with 1 Axes>"
      ]
     },
     "metadata": {},
     "output_type": "display_data"
    }
   ],
   "source": [
    "pipeline = make_bow_classifier_pipeline(C=1.0)\n",
    "\n",
    "pipeline.fit(x_train, y_train)\n",
    "\n",
    "yhat_train = pipeline.predict_proba(x_train)[:,1]\n",
    "yhat_valid = pipeline.predict_proba(x_valid)[:,1]\n",
    "\n",
    "plt.subplots(nrows=1, ncols=1, figsize=(5,5));\n",
    "\n",
    "\n",
    "fpr_tr, tpr_tr, thresholds_tr = sklearn.metrics.roc_curve(y_train, yhat_train)\n",
    "fpr_va, tpr_va, thresholds_va = sklearn.metrics.roc_curve(y_valid, yhat_valid)\n",
    "\n",
    "plt.plot(fpr_tr, tpr_tr, 'b-', label='Training Set')\n",
    "plt.plot(fpr_va, tpr_va, 'r-', label='Validation Set')\n",
    "\n",
    "plt.title(\"ROC on Validation and Training Set\");\n",
    "plt.xlabel('false positive rate');\n",
    "plt.ylabel('true positive rate');\n",
    "plt.legend(loc='lower right');\n",
    "B = 0.01\n",
    "plt.xlim([0 - B, 1 + B]);\n",
    "plt.ylim([0 - B, 1 + B]);\n"
   ]
  },
  {
   "cell_type": "code",
   "execution_count": 15,
   "metadata": {},
   "outputs": [
    {
     "data": {
      "text/html": [
       "<div>\n",
       "<style scoped>\n",
       "    .dataframe tbody tr th:only-of-type {\n",
       "        vertical-align: middle;\n",
       "    }\n",
       "\n",
       "    .dataframe tbody tr th {\n",
       "        vertical-align: top;\n",
       "    }\n",
       "\n",
       "    .dataframe thead th {\n",
       "        text-align: right;\n",
       "    }\n",
       "</style>\n",
       "<table border=\"1\" class=\"dataframe\">\n",
       "  <thead>\n",
       "    <tr style=\"text-align: right;\">\n",
       "      <th>Predicted</th>\n",
       "      <th>0</th>\n",
       "      <th>1</th>\n",
       "    </tr>\n",
       "    <tr>\n",
       "      <th>True</th>\n",
       "      <th></th>\n",
       "      <th></th>\n",
       "    </tr>\n",
       "  </thead>\n",
       "  <tbody>\n",
       "    <tr>\n",
       "      <th>0</th>\n",
       "      <td>99</td>\n",
       "      <td>14</td>\n",
       "    </tr>\n",
       "    <tr>\n",
       "      <th>1</th>\n",
       "      <td>31</td>\n",
       "      <td>96</td>\n",
       "    </tr>\n",
       "  </tbody>\n",
       "</table>\n",
       "</div>"
      ],
      "text/plain": [
       "Predicted   0   1\n",
       "True             \n",
       "0          99  14\n",
       "1          31  96"
      ]
     },
     "execution_count": 15,
     "metadata": {},
     "output_type": "execute_result"
    }
   ],
   "source": [
    "yhat_proba_valid = pipeline.predict_proba(x_valid)[:,1]\n",
    "accuracies = [sklearn.metrics.accuracy_score(y_valid, yhat_proba_valid >= thres) for thres in thresholds_va]\n",
    "\n",
    "max_acc_threshold = thresholds_va[accuracies.index(max(accuracies))]\n",
    "\n",
    "calc_confusion_matrix_for_probas_and_threshold(y_valid, yhat_proba_valid, max_acc_threshold)"
   ]
  },
  {
   "cell_type": "code",
   "execution_count": 16,
   "metadata": {},
   "outputs": [
    {
     "name": "stdout",
     "output_type": "stream",
     "text": [
      "14\n",
      "31\n",
      "['The cashier had no care what so ever on what I had to say it still ended up being wayyy overpriced.'\n",
      " 'You can find better movies at youtube.  '\n",
      " 'It failed to convey the broad sweep of landscapes that were a great part of the original.  '\n",
      " \"Verizon's bills, however, are difficult to understand even though their pricing plans are simple.\"\n",
      " \"I'll even say it again \\x96 this is torture.  \"\n",
      " 'And the accents are absolutely abysmal!  '\n",
      " 'The Heart Attack Grill in downtown Vegas is an absolutely flat-lined excuse for a restaurant.'\n",
      " 'You need two hands to operate the screen.This software interface is decade old and cannot compete with new software designs.'\n",
      " \"I tried talking real loud but shouting on the telephone gets old and I was still told it wasn't great.\"\n",
      " 'Unless you\\'re just out to visually \"collect\" all extant films of Austen\\'s work, you can skip this one.  '\n",
      " 'The potatoes were like rubber and you could tell they had been made up ahead of time being kept under a warmer.'\n",
      " 'But this movie is definitely a below average rent.  '\n",
      " 'Excellent starter wireless headset.'\n",
      " 'This scene is very strong and unpleasant.  ']\n",
      "['If you have not seen this movie, I definitely recommend it!  '\n",
      " \"I recently tried Caballero's and I have been back every week since!\"\n",
      " 'They could be used as exemplars for any set designer.  '\n",
      " \"It's hard not to fall head-over-heels in love with that girl.  \"\n",
      " \"There's barely a boring moment in the film and there are plenty of humorous parts.  \"\n",
      " 'Protects the phone on all sides.'\n",
      " 'High-quality chicken on the chicken Caesar salad.'\n",
      " \"The film's dialogue is natural, real to life.  \"\n",
      " 'Having to humour him just to get by and get through the day was so apt.  '\n",
      " 'So they performed.'\n",
      " 'Also its slim enough to fit into my alarm clock docking station without removing the case.'\n",
      " 'Enough can not be said of the remarkable animation in this film.  '\n",
      " 'You get extra minutes so that you can carry out the call and not get cut off.\"'\n",
      " 'My Sanyo has survived dozens of drops on blacktop without ill effect.'\n",
      " 'I liked this movie way too much.  ' 'Brilliance indeed.  '\n",
      " 'For sushi on the Strip, this is the place to go.'\n",
      " 'This place is two thumbs up....way up.'\n",
      " '\" In fact, it\\'s hard to remember that the part of Ray Charles is being acted, and not played by the man himself.  '\n",
      " \"But the duet between the astronaut and his doctor at the beginning of the movie is a perfect exchange if one considers that this movie was made well into the Cold War and the astronaut's biggest fear is that he has crashed in the USSR.  \"\n",
      " 'Shot in the Southern California desert using his patent faux documentary style, Watkins creates a film like no other.  '\n",
      " 'After one bite, I was hooked.'\n",
      " 'The things that the four kids get themselves into is absolutely hilarious to watch.  '\n",
      " 'The salad had just the right amount of sauce to not over power the scallop, which was perfectly cooked.'\n",
      " 'This place is like Chipotle, but BETTER.' 'Give this one a look.  '\n",
      " \"If there was ever an indication of a writer and a director's ability to meld two highly volatile temperaments into a seamless union of creativity, then this is it!  \"\n",
      " \"It was a long time that i didn't see a so charismatic actor on screen.  \"\n",
      " 'We have gotten a lot of compliments on it.'\n",
      " \"As a courtroom drama, it's compelling, as an indictment on the American justice system, it's frightening.  \"\n",
      " 'The shrimp tender and moist.']\n"
     ]
    }
   ],
   "source": [
    "yhat_valid = yhat_proba_valid >= max_acc_threshold\n",
    "\n",
    "false_positive_indices = [yhat_valid[i] == 1 and y_valid[i] == 0 for i in range(len(y_valid))]\n",
    "false_negative_indices = [yhat_valid[i] == 0 and y_valid[i] == 1 for i in range(len(y_valid))]\n",
    "\n",
    "false_positives = x_valid[false_positive_indices]\n",
    "false_negatives = x_valid[false_negative_indices]\n",
    "\n",
    "print(len(false_positives))\n",
    "print(len(false_negatives))\n",
    "\n",
    "print(false_positives)\n",
    "print(false_negatives)"
   ]
  },
  {
   "cell_type": "code",
   "execution_count": 19,
   "metadata": {},
   "outputs": [
    {
     "name": "stdout",
     "output_type": "stream",
     "text": [
      "Sources of false positives: ['yelp' 'imdb' 'imdb' 'amazon' 'imdb' 'imdb' 'yelp' 'amazon' 'amazon'\n",
      " 'imdb' 'yelp' 'imdb' 'amazon' 'imdb']\n",
      "Sources of false negatives: ['imdb' 'yelp' 'imdb' 'imdb' 'imdb' 'amazon' 'yelp' 'imdb' 'imdb' 'yelp'\n",
      " 'amazon' 'imdb' 'amazon' 'amazon' 'imdb' 'imdb' 'yelp' 'yelp' 'imdb'\n",
      " 'imdb' 'imdb' 'yelp' 'imdb' 'yelp' 'yelp' 'imdb' 'imdb' 'imdb' 'amazon'\n",
      " 'imdb' 'yelp']\n"
     ]
    }
   ],
   "source": [
    "x_train_N, y_train_N, shuffled_indices = shuffle(x_train_N, y_train_N, np.arange(x_train_N.shape[0]), random_state=2)\n",
    "valid_indices = shuffled_indices[:240]\n",
    "train_indices = shuffled_indices[240:]\n",
    "\n",
    "x_valid = x_train_N[:240]\n",
    "y_valid = y_train_N[:240]\n",
    "\n",
    "x_train = x_train_N[240:]\n",
    "y_train = y_train_N[240:]\n",
    "\n",
    "false_positive_actual_indices = valid_indices[np.where(false_positive_indices)]\n",
    "false_negative_actual_indices = valid_indices[np.where(false_negative_indices)]\n",
    "\n",
    "false_positive_sources = x_train_df.iloc[false_positive_actual_indices, 0].values\n",
    "false_negative_sources = x_train_df.iloc[false_negative_actual_indices, 0].values\n",
    "\n",
    "print(\"Sources of false positives:\", false_positive_sources)\n",
    "print(\"Sources of false negatives:\", false_negative_sources)"
   ]
  },
  {
   "cell_type": "code",
   "execution_count": 17,
   "metadata": {},
   "outputs": [
    {
     "name": "stdout",
     "output_type": "stream",
     "text": [
      "4510\n"
     ]
    }
   ],
   "source": [
    "vectorizer = CountVectorizer(min_df=1, max_df=1.0, ngram_range=(1, 1))\n",
    "vectorizer.fit_transform(x_train_N)\n",
    "\n",
    "print(len(vectorizer.vocabulary_))"
   ]
  },
  {
   "cell_type": "markdown",
   "metadata": {},
   "source": [
    "# GridSearch results "
   ]
  },
  {
   "cell_type": "code",
   "execution_count": null,
   "metadata": {},
   "outputs": [
    {
     "data": {
      "text/html": [
       "<div>\n",
       "<style scoped>\n",
       "    .dataframe tbody tr th:only-of-type {\n",
       "        vertical-align: middle;\n",
       "    }\n",
       "\n",
       "    .dataframe tbody tr th {\n",
       "        vertical-align: top;\n",
       "    }\n",
       "\n",
       "    .dataframe thead th {\n",
       "        text-align: right;\n",
       "    }\n",
       "</style>\n",
       "<table border=\"1\" class=\"dataframe\">\n",
       "  <thead>\n",
       "    <tr style=\"text-align: right;\">\n",
       "      <th></th>\n",
       "      <th>param_bow_feature_extractor__min_df</th>\n",
       "      <th>param_bow_feature_extractor__max_df</th>\n",
       "      <th>param_classifier__C</th>\n",
       "      <th>split0_test_score</th>\n",
       "      <th>rank_test_score</th>\n",
       "    </tr>\n",
       "  </thead>\n",
       "  <tbody>\n",
       "    <tr>\n",
       "      <th>220</th>\n",
       "      <td>1</td>\n",
       "      <td>0.5</td>\n",
       "      <td>0.1</td>\n",
       "      <td>0.845625</td>\n",
       "      <td>211</td>\n",
       "    </tr>\n",
       "    <tr>\n",
       "      <th>221</th>\n",
       "      <td>1</td>\n",
       "      <td>0.5</td>\n",
       "      <td>0.158489</td>\n",
       "      <td>0.854583</td>\n",
       "      <td>163</td>\n",
       "    </tr>\n",
       "    <tr>\n",
       "      <th>222</th>\n",
       "      <td>1</td>\n",
       "      <td>0.5</td>\n",
       "      <td>0.251189</td>\n",
       "      <td>0.860833</td>\n",
       "      <td>85</td>\n",
       "    </tr>\n",
       "    <tr>\n",
       "      <th>223</th>\n",
       "      <td>1</td>\n",
       "      <td>0.5</td>\n",
       "      <td>0.398107</td>\n",
       "      <td>0.866736</td>\n",
       "      <td>67</td>\n",
       "    </tr>\n",
       "    <tr>\n",
       "      <th>224</th>\n",
       "      <td>1</td>\n",
       "      <td>0.5</td>\n",
       "      <td>0.630957</td>\n",
       "      <td>0.870486</td>\n",
       "      <td>31</td>\n",
       "    </tr>\n",
       "    <tr>\n",
       "      <th>...</th>\n",
       "      <td>...</td>\n",
       "      <td>...</td>\n",
       "      <td>...</td>\n",
       "      <td>...</td>\n",
       "      <td>...</td>\n",
       "    </tr>\n",
       "    <tr>\n",
       "      <th>39</th>\n",
       "      <td>4</td>\n",
       "      <td>1.0</td>\n",
       "      <td>1.584893</td>\n",
       "      <td>0.855625</td>\n",
       "      <td>157</td>\n",
       "    </tr>\n",
       "    <tr>\n",
       "      <th>40</th>\n",
       "      <td>4</td>\n",
       "      <td>1.0</td>\n",
       "      <td>2.511886</td>\n",
       "      <td>0.851111</td>\n",
       "      <td>187</td>\n",
       "    </tr>\n",
       "    <tr>\n",
       "      <th>41</th>\n",
       "      <td>4</td>\n",
       "      <td>1.0</td>\n",
       "      <td>3.981072</td>\n",
       "      <td>0.845486</td>\n",
       "      <td>223</td>\n",
       "    </tr>\n",
       "    <tr>\n",
       "      <th>42</th>\n",
       "      <td>4</td>\n",
       "      <td>1.0</td>\n",
       "      <td>6.309573</td>\n",
       "      <td>0.837500</td>\n",
       "      <td>247</td>\n",
       "    </tr>\n",
       "    <tr>\n",
       "      <th>43</th>\n",
       "      <td>4</td>\n",
       "      <td>1.0</td>\n",
       "      <td>10.0</td>\n",
       "      <td>0.830000</td>\n",
       "      <td>259</td>\n",
       "    </tr>\n",
       "  </tbody>\n",
       "</table>\n",
       "<p>264 rows × 5 columns</p>\n",
       "</div>"
      ],
      "text/plain": [
       "    param_bow_feature_extractor__min_df param_bow_feature_extractor__max_df  \\\n",
       "220                                   1                                 0.5   \n",
       "221                                   1                                 0.5   \n",
       "222                                   1                                 0.5   \n",
       "223                                   1                                 0.5   \n",
       "224                                   1                                 0.5   \n",
       "..                                  ...                                 ...   \n",
       "39                                    4                                 1.0   \n",
       "40                                    4                                 1.0   \n",
       "41                                    4                                 1.0   \n",
       "42                                    4                                 1.0   \n",
       "43                                    4                                 1.0   \n",
       "\n",
       "    param_classifier__C  split0_test_score  rank_test_score  \n",
       "220                 0.1           0.845625              211  \n",
       "221            0.158489           0.854583              163  \n",
       "222            0.251189           0.860833               85  \n",
       "223            0.398107           0.866736               67  \n",
       "224            0.630957           0.870486               31  \n",
       "..                  ...                ...              ...  \n",
       "39             1.584893           0.855625              157  \n",
       "40             2.511886           0.851111              187  \n",
       "41             3.981072           0.845486              223  \n",
       "42             6.309573           0.837500              247  \n",
       "43                 10.0           0.830000              259  \n",
       "\n",
       "[264 rows x 5 columns]"
      ]
     },
     "execution_count": 8,
     "metadata": {},
     "output_type": "execute_result"
    }
   ],
   "source": [
    "grid_search_results_df = pd.DataFrame(grid_searcher.cv_results_).copy()\n",
    "\n",
    "param_keys = ['param_bow_feature_extractor__min_df', 'param_bow_feature_extractor__max_df', 'param_classifier__C']\n",
    "\n",
    "grid_search_results_df.sort_values(param_keys, inplace=True)\n",
    "grid_search_results_df[param_keys + ['split0_test_score', 'rank_test_score']]"
   ]
  },
  {
   "cell_type": "markdown",
   "metadata": {},
   "source": [
    "# Multi-website model approach"
   ]
  },
  {
   "cell_type": "code",
   "execution_count": 85,
   "metadata": {},
   "outputs": [],
   "source": [
    "x_train_df, y_train_df = load_train_data()\n",
    "\n",
    "x_test_df = load_test_data()\n",
    "\n",
    "x_amazon, x_imdb, x_yelp = split_by_website(x_train_df.to_numpy())"
   ]
  },
  {
   "cell_type": "code",
   "execution_count": 86,
   "metadata": {},
   "outputs": [],
   "source": [
    "amazon_text, amazon_indices = zip(*x_amazon)\n",
    "imdb_text, imdb_indices = zip(*x_imdb)\n",
    "yelp_text, yelp_indices = zip(*x_yelp)\n",
    "\n",
    "amazon_text = np.asarray(list(amazon_text))\n",
    "amazon_indices = np.asarray(list(amazon_indices))\n",
    "\n",
    "imdb_text = np.asarray(list(imdb_text))\n",
    "imdb_indices = np.asarray(list(imdb_indices))\n",
    "\n",
    "yelp_text = np.asarray(list(yelp_text))\n",
    "yelp_indices = np.asarray(list(yelp_indices))\n",
    "\n",
    "y_train_N = y_train_df.to_numpy()\n",
    "\n",
    "y_amazon = y_train_N[amazon_indices][:,0]\n",
    "y_imdb = y_train_N[imdb_indices][:,0]\n",
    "y_yelp = y_train_N[yelp_indices][:,0]"
   ]
  },
  {
   "cell_type": "code",
   "execution_count": 87,
   "metadata": {},
   "outputs": [],
   "source": [
    "amazon_text, y_amazon = shuffle(amazon_text, y_amazon, random_state=2)\n",
    "imdb_text, y_imdb = shuffle(imdb_text, y_imdb, random_state=2)\n",
    "yelp_text, y_yelp = shuffle(yelp_text, y_yelp, random_state=2)"
   ]
  },
  {
   "cell_type": "code",
   "execution_count": 88,
   "metadata": {},
   "outputs": [
    {
     "data": {
      "text/html": [
       "<style>#sk-container-id-3 {color: black;background-color: white;}#sk-container-id-3 pre{padding: 0;}#sk-container-id-3 div.sk-toggleable {background-color: white;}#sk-container-id-3 label.sk-toggleable__label {cursor: pointer;display: block;width: 100%;margin-bottom: 0;padding: 0.3em;box-sizing: border-box;text-align: center;}#sk-container-id-3 label.sk-toggleable__label-arrow:before {content: \"▸\";float: left;margin-right: 0.25em;color: #696969;}#sk-container-id-3 label.sk-toggleable__label-arrow:hover:before {color: black;}#sk-container-id-3 div.sk-estimator:hover label.sk-toggleable__label-arrow:before {color: black;}#sk-container-id-3 div.sk-toggleable__content {max-height: 0;max-width: 0;overflow: hidden;text-align: left;background-color: #f0f8ff;}#sk-container-id-3 div.sk-toggleable__content pre {margin: 0.2em;color: black;border-radius: 0.25em;background-color: #f0f8ff;}#sk-container-id-3 input.sk-toggleable__control:checked~div.sk-toggleable__content {max-height: 200px;max-width: 100%;overflow: auto;}#sk-container-id-3 input.sk-toggleable__control:checked~label.sk-toggleable__label-arrow:before {content: \"▾\";}#sk-container-id-3 div.sk-estimator input.sk-toggleable__control:checked~label.sk-toggleable__label {background-color: #d4ebff;}#sk-container-id-3 div.sk-label input.sk-toggleable__control:checked~label.sk-toggleable__label {background-color: #d4ebff;}#sk-container-id-3 input.sk-hidden--visually {border: 0;clip: rect(1px 1px 1px 1px);clip: rect(1px, 1px, 1px, 1px);height: 1px;margin: -1px;overflow: hidden;padding: 0;position: absolute;width: 1px;}#sk-container-id-3 div.sk-estimator {font-family: monospace;background-color: #f0f8ff;border: 1px dotted black;border-radius: 0.25em;box-sizing: border-box;margin-bottom: 0.5em;}#sk-container-id-3 div.sk-estimator:hover {background-color: #d4ebff;}#sk-container-id-3 div.sk-parallel-item::after {content: \"\";width: 100%;border-bottom: 1px solid gray;flex-grow: 1;}#sk-container-id-3 div.sk-label:hover label.sk-toggleable__label {background-color: #d4ebff;}#sk-container-id-3 div.sk-serial::before {content: \"\";position: absolute;border-left: 1px solid gray;box-sizing: border-box;top: 0;bottom: 0;left: 50%;z-index: 0;}#sk-container-id-3 div.sk-serial {display: flex;flex-direction: column;align-items: center;background-color: white;padding-right: 0.2em;padding-left: 0.2em;position: relative;}#sk-container-id-3 div.sk-item {position: relative;z-index: 1;}#sk-container-id-3 div.sk-parallel {display: flex;align-items: stretch;justify-content: center;background-color: white;position: relative;}#sk-container-id-3 div.sk-item::before, #sk-container-id-3 div.sk-parallel-item::before {content: \"\";position: absolute;border-left: 1px solid gray;box-sizing: border-box;top: 0;bottom: 0;left: 50%;z-index: -1;}#sk-container-id-3 div.sk-parallel-item {display: flex;flex-direction: column;z-index: 1;position: relative;background-color: white;}#sk-container-id-3 div.sk-parallel-item:first-child::after {align-self: flex-end;width: 50%;}#sk-container-id-3 div.sk-parallel-item:last-child::after {align-self: flex-start;width: 50%;}#sk-container-id-3 div.sk-parallel-item:only-child::after {width: 0;}#sk-container-id-3 div.sk-dashed-wrapped {border: 1px dashed gray;margin: 0 0.4em 0.5em 0.4em;box-sizing: border-box;padding-bottom: 0.4em;background-color: white;}#sk-container-id-3 div.sk-label label {font-family: monospace;font-weight: bold;display: inline-block;line-height: 1.2em;}#sk-container-id-3 div.sk-label-container {text-align: center;}#sk-container-id-3 div.sk-container {/* jupyter's `normalize.less` sets `[hidden] { display: none; }` but bootstrap.min.css set `[hidden] { display: none !important; }` so we also need the `!important` here to be able to override the default hidden behavior on the sphinx rendered scikit-learn.org. See: https://github.com/scikit-learn/scikit-learn/issues/21755 */display: inline-block !important;position: relative;}#sk-container-id-3 div.sk-text-repr-fallback {display: none;}</style><div id=\"sk-container-id-3\" class=\"sk-top-container\"><div class=\"sk-text-repr-fallback\"><pre>GridSearchCV(cv=10,\n",
       "             estimator=Pipeline(steps=[(&#x27;bow_feature_extractor&#x27;,\n",
       "                                        CountVectorizer(min_df=2)),\n",
       "                                       (&#x27;classifier&#x27;,\n",
       "                                        LogisticRegression(max_iter=100000))]),\n",
       "             param_grid={&#x27;bow_feature_extractor__max_df&#x27;: [1.0, 0.9, 0.8, 0.7,\n",
       "                                                           0.6, 0.5, 0.4, 0.3],\n",
       "                         &#x27;bow_feature_extractor__min_df&#x27;: [1, 2, 3, 4, 8],\n",
       "                         &#x27;classifier__C&#x27;: array([1.00000000e-02, 1.62377674e-02, 2.63665090e-02, 4.28133240e-02,\n",
       "       6.95192796e-02, 1.12883789e-01, 1.83298071e-01, 2.97635144e-01,\n",
       "       4.83293024e-01, 7.84759970e-01, 1.27427499e+00, 2.06913808e+00,\n",
       "       3.35981829e+00, 5.45559478e+00, 8.85866790e+00, 1.43844989e+01,\n",
       "       2.33572147e+01, 3.79269019e+01, 6.15848211e+01, 1.00000000e+02])},\n",
       "             scoring=&#x27;roc_auc&#x27;)</pre><b>In a Jupyter environment, please rerun this cell to show the HTML representation or trust the notebook. <br />On GitHub, the HTML representation is unable to render, please try loading this page with nbviewer.org.</b></div><div class=\"sk-container\" hidden><div class=\"sk-item sk-dashed-wrapped\"><div class=\"sk-label-container\"><div class=\"sk-label sk-toggleable\"><input class=\"sk-toggleable__control sk-hidden--visually\" id=\"sk-estimator-id-9\" type=\"checkbox\" ><label for=\"sk-estimator-id-9\" class=\"sk-toggleable__label sk-toggleable__label-arrow\">GridSearchCV</label><div class=\"sk-toggleable__content\"><pre>GridSearchCV(cv=10,\n",
       "             estimator=Pipeline(steps=[(&#x27;bow_feature_extractor&#x27;,\n",
       "                                        CountVectorizer(min_df=2)),\n",
       "                                       (&#x27;classifier&#x27;,\n",
       "                                        LogisticRegression(max_iter=100000))]),\n",
       "             param_grid={&#x27;bow_feature_extractor__max_df&#x27;: [1.0, 0.9, 0.8, 0.7,\n",
       "                                                           0.6, 0.5, 0.4, 0.3],\n",
       "                         &#x27;bow_feature_extractor__min_df&#x27;: [1, 2, 3, 4, 8],\n",
       "                         &#x27;classifier__C&#x27;: array([1.00000000e-02, 1.62377674e-02, 2.63665090e-02, 4.28133240e-02,\n",
       "       6.95192796e-02, 1.12883789e-01, 1.83298071e-01, 2.97635144e-01,\n",
       "       4.83293024e-01, 7.84759970e-01, 1.27427499e+00, 2.06913808e+00,\n",
       "       3.35981829e+00, 5.45559478e+00, 8.85866790e+00, 1.43844989e+01,\n",
       "       2.33572147e+01, 3.79269019e+01, 6.15848211e+01, 1.00000000e+02])},\n",
       "             scoring=&#x27;roc_auc&#x27;)</pre></div></div></div><div class=\"sk-parallel\"><div class=\"sk-parallel-item\"><div class=\"sk-item\"><div class=\"sk-label-container\"><div class=\"sk-label sk-toggleable\"><input class=\"sk-toggleable__control sk-hidden--visually\" id=\"sk-estimator-id-10\" type=\"checkbox\" ><label for=\"sk-estimator-id-10\" class=\"sk-toggleable__label sk-toggleable__label-arrow\">estimator: Pipeline</label><div class=\"sk-toggleable__content\"><pre>Pipeline(steps=[(&#x27;bow_feature_extractor&#x27;, CountVectorizer(min_df=2)),\n",
       "                (&#x27;classifier&#x27;, LogisticRegression(max_iter=100000))])</pre></div></div></div><div class=\"sk-serial\"><div class=\"sk-item\"><div class=\"sk-serial\"><div class=\"sk-item\"><div class=\"sk-estimator sk-toggleable\"><input class=\"sk-toggleable__control sk-hidden--visually\" id=\"sk-estimator-id-11\" type=\"checkbox\" ><label for=\"sk-estimator-id-11\" class=\"sk-toggleable__label sk-toggleable__label-arrow\">CountVectorizer</label><div class=\"sk-toggleable__content\"><pre>CountVectorizer(min_df=2)</pre></div></div></div><div class=\"sk-item\"><div class=\"sk-estimator sk-toggleable\"><input class=\"sk-toggleable__control sk-hidden--visually\" id=\"sk-estimator-id-12\" type=\"checkbox\" ><label for=\"sk-estimator-id-12\" class=\"sk-toggleable__label sk-toggleable__label-arrow\">LogisticRegression</label><div class=\"sk-toggleable__content\"><pre>LogisticRegression(max_iter=100000)</pre></div></div></div></div></div></div></div></div></div></div></div></div>"
      ],
      "text/plain": [
       "GridSearchCV(cv=10,\n",
       "             estimator=Pipeline(steps=[('bow_feature_extractor',\n",
       "                                        CountVectorizer(min_df=2)),\n",
       "                                       ('classifier',\n",
       "                                        LogisticRegression(max_iter=100000))]),\n",
       "             param_grid={'bow_feature_extractor__max_df': [1.0, 0.9, 0.8, 0.7,\n",
       "                                                           0.6, 0.5, 0.4, 0.3],\n",
       "                         'bow_feature_extractor__min_df': [1, 2, 3, 4, 8],\n",
       "                         'classifier__C': array([1.00000000e-02, 1.62377674e-02, 2.63665090e-02, 4.28133240e-02,\n",
       "       6.95192796e-02, 1.12883789e-01, 1.83298071e-01, 2.97635144e-01,\n",
       "       4.83293024e-01, 7.84759970e-01, 1.27427499e+00, 2.06913808e+00,\n",
       "       3.35981829e+00, 5.45559478e+00, 8.85866790e+00, 1.43844989e+01,\n",
       "       2.33572147e+01, 3.79269019e+01, 6.15848211e+01, 1.00000000e+02])},\n",
       "             scoring='roc_auc')"
      ]
     },
     "execution_count": 88,
     "metadata": {},
     "output_type": "execute_result"
    }
   ],
   "source": [
    "amazon_pipeline = make_bow_classifier_pipeline()\n",
    "amazon_hyperparam_grid = make_hyperparam_grid()\n",
    "\n",
    "amazon_grid_searcher = sklearn.model_selection.GridSearchCV(\n",
    "    amazon_pipeline,\n",
    "    amazon_hyperparam_grid,\n",
    "    cv=10,\n",
    "    scoring=\"roc_auc\"\n",
    ")\n",
    "\n",
    "imdb_pipeline = make_bow_classifier_pipeline()\n",
    "imdb_hyperparam_grid = make_hyperparam_grid()\n",
    "\n",
    "imdb_grid_searcher = sklearn.model_selection.GridSearchCV(\n",
    "    imdb_pipeline,\n",
    "    imdb_hyperparam_grid,\n",
    "    cv=10,\n",
    "    scoring=\"roc_auc\"\n",
    ")\n",
    "\n",
    "yelp_pipeline = make_bow_classifier_pipeline()\n",
    "yelp_hyperparam_grid = make_hyperparam_grid()\n",
    "\n",
    "yelp_grid_searcher = sklearn.model_selection.GridSearchCV(\n",
    "    yelp_pipeline,\n",
    "    yelp_hyperparam_grid,\n",
    "    cv=10,\n",
    "    scoring=\"roc_auc\"\n",
    ")\n",
    "\n",
    "grid_searchers = [amazon_grid_searcher, imdb_grid_searcher, yelp_grid_searcher]\n",
    "\n",
    "\n",
    "grid_searchers[0].fit(amazon_text, y_amazon)\n",
    "grid_searchers[1].fit(imdb_text, y_imdb)\n",
    "grid_searchers[2].fit(yelp_text, y_yelp)\n"
   ]
  },
  {
   "cell_type": "code",
   "execution_count": 89,
   "metadata": {},
   "outputs": [],
   "source": [
    "best_models = [grid_searchers[i].best_estimator_ for i in range(3)]\n",
    "\n",
    "x_test_amazon, x_test_imdb, x_test_yelp = split_by_website(x_test_df.to_numpy())\n",
    "\n",
    "x_test_amazon_text, _ = zip(*x_test_amazon)\n",
    "x_test_imdb_text, _ = zip(*x_test_imdb)\n",
    "x_test_yelp_text, _ = zip(*x_test_yelp)\n",
    "\n",
    "x_test_amazon_text = np.asarray(x_test_amazon_text)\n",
    "x_test_imdb_text = np.asarray(x_test_imdb_text)\n",
    "x_test_yelp_text = np.asarray(x_test_yelp_text)"
   ]
  },
  {
   "cell_type": "code",
   "execution_count": 90,
   "metadata": {},
   "outputs": [
    {
     "name": "stdout",
     "output_type": "stream",
     "text": [
      "best score: 0.89925; best params: {'bow_feature_extractor__max_df': 1.0, 'bow_feature_extractor__min_df': 1, 'classifier__C': 37.92690190732246}\n",
      "best score: 0.8520000000000001; best params: {'bow_feature_extractor__max_df': 0.3, 'bow_feature_extractor__min_df': 1, 'classifier__C': 3.359818286283781}\n",
      "best score: 0.89175; best params: {'bow_feature_extractor__max_df': 0.3, 'bow_feature_extractor__min_df': 1, 'classifier__C': 3.359818286283781}\n"
     ]
    }
   ],
   "source": [
    "yhat_amazon = best_models[0].predict_proba(x_test_amazon_text)[:,1]\n",
    "yhat_imdb = best_models[1].predict_proba(x_test_imdb_text)[:,1]\n",
    "yhat_yelp = best_models[2].predict_proba(x_test_yelp_text)[:,1]\n",
    "\n",
    "yhat_test_N = np.concatenate((yhat_amazon, yhat_imdb, yhat_yelp))\n",
    "\n",
    "np.savetxt(\"yproba1_test.txt\", yhat_test_N)\n",
    "\n",
    "for searcher in grid_searchers:\n",
    "    best_params = searcher.best_params_\n",
    "    best_score = searcher.best_score_\n",
    "\n",
    "    print(f\"best score: {best_score}; best params:\", best_params)\n",
    "    \n",
    "\n"
   ]
  }
 ],
 "metadata": {
  "kernelspec": {
   "display_name": "Python 3",
   "language": "python",
   "name": "python3"
  },
  "language_info": {
   "codemirror_mode": {
    "name": "ipython",
    "version": 3
   },
   "file_extension": ".py",
   "mimetype": "text/x-python",
   "name": "python",
   "nbconvert_exporter": "python",
   "pygments_lexer": "ipython3",
   "version": "3.10.12"
  }
 },
 "nbformat": 4,
 "nbformat_minor": 2
}
